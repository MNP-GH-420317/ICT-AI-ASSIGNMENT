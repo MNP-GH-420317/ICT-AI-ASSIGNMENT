{
 "cells": [
  {
   "cell_type": "code",
   "execution_count": 2,
   "id": "dec02ff5",
   "metadata": {},
   "outputs": [],
   "source": [
    "import pandas as pd\n",
    "import numpy as np\n",
    "import string\n",
    "import joblib\n",
    "import nltk\n",
    "from sklearn.ensemble import RandomForestClassifier\n",
    "from sklearn.metrics import classification_report\n",
    "from sklearn.model_selection import train_test_split, GridSearchCV\n",
    "from nltk.corpus import stopwords\n",
    "from nltk.stem import WordNetLemmatizer\n",
    "from nltk import word_tokenize\n",
    "from sklearn.feature_extraction.text import TfidfVectorizer\n",
    "from sklearn.linear_model import LogisticRegression"
   ]
  },
  {
   "cell_type": "code",
   "execution_count": 3,
   "id": "daffcaea",
   "metadata": {},
   "outputs": [
    {
     "name": "stderr",
     "output_type": "stream",
     "text": [
      "[nltk_data] Downloading package punkt to\n",
      "[nltk_data]     C:\\Users\\420317\\AppData\\Roaming\\nltk_data...\n",
      "[nltk_data]   Package punkt is already up-to-date!\n",
      "[nltk_data] Downloading package stopwords to\n",
      "[nltk_data]     C:\\Users\\420317\\AppData\\Roaming\\nltk_data...\n",
      "[nltk_data]   Package stopwords is already up-to-date!\n",
      "[nltk_data] Downloading package wordnet to\n",
      "[nltk_data]     C:\\Users\\420317\\AppData\\Roaming\\nltk_data...\n",
      "[nltk_data]   Package wordnet is already up-to-date!\n"
     ]
    },
    {
     "data": {
      "text/plain": [
       "True"
      ]
     },
     "execution_count": 3,
     "metadata": {},
     "output_type": "execute_result"
    }
   ],
   "source": [
    "## to download tool kit for data understanding process\n",
    "nltk.download('punkt')\n",
    "nltk.download('stopwords')\n",
    "nltk.download('wordnet')"
   ]
  },
  {
   "cell_type": "markdown",
   "id": "20053d44",
   "metadata": {},
   "source": [
    "#### Convert ratings to binary sentiment labels "
   ]
  },
  {
   "cell_type": "code",
   "execution_count": 4,
   "id": "bf00abf7",
   "metadata": {},
   "outputs": [],
   "source": [
    "data = pd.read_csv(r\"C:\\Users\\420317\\Downloads\\ICT-AI-ASSIGNMENT-main\\Ast_code\\drugLibTest_raw.tsv\", sep='\\t')"
   ]
  },
  {
   "cell_type": "markdown",
   "id": "290b7f8c",
   "metadata": {},
   "source": [
    "#### similar approch for 1st questions EDA"
   ]
  },
  {
   "cell_type": "code",
   "execution_count": 5,
   "id": "6f137a22",
   "metadata": {},
   "outputs": [
    {
     "data": {
      "text/plain": [
       "Index(['Unnamed: 0', 'urlDrugName', 'rating', 'effectiveness', 'sideEffects',\n",
       "       'condition', 'benefitsReview', 'sideEffectsReview', 'commentsReview'],\n",
       "      dtype='object')"
      ]
     },
     "execution_count": 5,
     "metadata": {},
     "output_type": "execute_result"
    }
   ],
   "source": [
    "data.columns"
   ]
  },
  {
   "cell_type": "code",
   "execution_count": 6,
   "id": "9735f9a8",
   "metadata": {},
   "outputs": [],
   "source": [
    "## condition apply for 7 is positive and else negative values\n",
    "\n",
    "sentiments = []\n",
    "for data_rate in data['rating']:\n",
    "    if data_rate >= 7:\n",
    "        sentiments.append(1)\n",
    "    else :\n",
    "        sentiments.append(0)\n",
    "data['sentiment'] = sentiments"
   ]
  },
  {
   "cell_type": "markdown",
   "id": "c76c87f1",
   "metadata": {},
   "source": [
    "#### Preprocess text"
   ]
  },
  {
   "cell_type": "code",
   "execution_count": 7,
   "id": "ed74f2f5",
   "metadata": {},
   "outputs": [
    {
     "data": {
      "text/plain": [
       "Index(['Unnamed: 0', 'urlDrugName', 'rating', 'effectiveness', 'sideEffects',\n",
       "       'condition', 'benefitsReview', 'sideEffectsReview', 'commentsReview',\n",
       "       'sentiment'],\n",
       "      dtype='object')"
      ]
     },
     "execution_count": 7,
     "metadata": {},
     "output_type": "execute_result"
    }
   ],
   "source": [
    "data.columns"
   ]
  },
  {
   "cell_type": "code",
   "execution_count": 8,
   "id": "ec733bcf",
   "metadata": {},
   "outputs": [
    {
     "name": "stderr",
     "output_type": "stream",
     "text": [
      "[nltk_data] Downloading package punkt to\n",
      "[nltk_data]     C:\\Users\\420317\\AppData\\Roaming\\nltk_data...\n",
      "[nltk_data]   Package punkt is already up-to-date!\n"
     ]
    },
    {
     "data": {
      "text/plain": [
       "True"
      ]
     },
     "execution_count": 8,
     "metadata": {},
     "output_type": "execute_result"
    }
   ],
   "source": [
    "import nltk\n",
    "nltk.download('punkt')"
   ]
  },
  {
   "cell_type": "code",
   "execution_count": 9,
   "id": "22981e40",
   "metadata": {},
   "outputs": [
    {
     "name": "stdout",
     "output_type": "stream",
     "text": [
      "C:\\Users\\420317\\AppData\\Roaming\\nltk_data\\tokenizers\n"
     ]
    }
   ],
   "source": [
    "import nltk\n",
    "print(nltk.data.find('tokenizers')) "
   ]
  },
  {
   "cell_type": "code",
   "execution_count": 10,
   "id": "6e6a5ba6",
   "metadata": {},
   "outputs": [
    {
     "name": "stderr",
     "output_type": "stream",
     "text": [
      "[nltk_data] Downloading package punkt to\n",
      "[nltk_data]     C:\\Users\\420317\\AppData\\Roaming\\nltk_data...\n",
      "[nltk_data]   Package punkt is already up-to-date!\n"
     ]
    },
    {
     "data": {
      "text/plain": [
       "True"
      ]
     },
     "execution_count": 10,
     "metadata": {},
     "output_type": "execute_result"
    }
   ],
   "source": [
    "nltk.data.path.append(r'C:\\Users\\420317\\AppData\\Roaming\\nltk_data')\n",
    "nltk.download('punkt')"
   ]
  },
  {
   "cell_type": "code",
   "execution_count": 11,
   "id": "de81376c",
   "metadata": {},
   "outputs": [],
   "source": [
    "from sklearn.feature_extraction.text import ENGLISH_STOP_WORDS\n",
    "import re\n",
    "stop_words = set(ENGLISH_STOP_WORDS)\n",
    "\n",
    "def preprocess(text):\n",
    "    if pd.isnull(text):\n",
    "        return \"\"\n",
    "    text = text.lower()\n",
    "    text = re.sub(r'[^a-z\\s]', '', text)  \n",
    "    words = text.split()\n",
    "    words = [word for word in words if word not in stop_words]\n",
    "    return ' '.join(words)\n",
    "\n",
    "data['cln_review'] = data['commentsReview'].apply(preprocess)"
   ]
  },
  {
   "cell_type": "code",
   "execution_count": null,
   "id": "168ffdbb",
   "metadata": {},
   "outputs": [],
   "source": [
    "vector_file = TfidfVectorizer(max_features=10000)\n",
    "x = vector_file.fit_transform(data['cln_review'])\n",
    "y = data['sentiment']\n",
    "\n",
    "X_train, X_test, y_train, y_test = train_test_split(x, y, test_size=0.2, random_state=42)\n"
   ]
  },
  {
   "cell_type": "code",
   "execution_count": 17,
   "id": "9cbbad2f",
   "metadata": {},
   "outputs": [
    {
     "name": "stdout",
     "output_type": "stream",
     "text": [
      "Model: LogisticRegression\n",
      "              precision    recall  f1-score   support\n",
      "\n",
      "           0       0.40      0.03      0.05        73\n",
      "           1       0.65      0.98      0.78       135\n",
      "\n",
      "    accuracy                           0.64       208\n",
      "   macro avg       0.53      0.50      0.42       208\n",
      "weighted avg       0.56      0.64      0.52       208\n",
      "\n",
      "--------------------------------------------------\n",
      "Model: RandomForestClassifier\n",
      "              precision    recall  f1-score   support\n",
      "\n",
      "           0       0.40      0.03      0.05        73\n",
      "           1       0.65      0.98      0.78       135\n",
      "\n",
      "    accuracy                           0.64       208\n",
      "   macro avg       0.53      0.50      0.42       208\n",
      "weighted avg       0.56      0.64      0.52       208\n",
      "\n",
      "--------------------------------------------------\n"
     ]
    }
   ],
   "source": [
    "models_and_predictions = {\n",
    "    \"LogisticRegression\": {\n",
    "        \"model\": linear_m,\n",
    "        \"predictions\": linear_m.predict(X_test)\n",
    "    },\n",
    "    \"RandomForestClassifier\": {\n",
    "        \"model\": random_f,\n",
    "        \"predictions\": random_f.predict(X_test)\n",
    "    }\n",
    "}\n",
    "\n",
    "for model_name, data in models_and_predictions.items():\n",
    "    model = data[\"model\"]\n",
    "    predictions = data[\"predictions\"]\n",
    "    print(f\"Model: {model_name}\")\n",
    "    print(classification_report(y_test, lr_preds))\n",
    "    print(\"-\" * 50)"
   ]
  },
  {
   "cell_type": "markdown",
   "id": "5da218ae",
   "metadata": {},
   "source": [
    "#### model build for tunning system"
   ]
  },
  {
   "cell_type": "code",
   "execution_count": 14,
   "id": "487de680",
   "metadata": {},
   "outputs": [
    {
     "name": "stdout",
     "output_type": "stream",
     "text": [
      "Best parameter model: {'max_depth': 20, 'min_samples_split': 2, 'n_estimators': 200}\n"
     ]
    }
   ],
   "source": [
    "params = {\n",
    "    'n_estimators': [100, 200],\n",
    "    'max_depth': [ 10, 20],\n",
    "    'min_samples_split': [2, 5,7],\n",
    "}\n",
    "grid = GridSearchCV(RandomForestClassifier(), param_grid=params, cv=3, scoring='f1', n_jobs=-1)\n",
    "grid.fit(X_train, y_train)\n",
    "\n",
    "print(\"Best parameter model:\", grid.best_params_)\n",
    "best_model = grid.best_estimator_"
   ]
  },
  {
   "cell_type": "markdown",
   "id": "a6473823",
   "metadata": {},
   "source": [
    "### save model"
   ]
  },
  {
   "cell_type": "code",
   "execution_count": null,
   "id": "733b60c3",
   "metadata": {},
   "outputs": [],
   "source": [
    "joblib.dump(best_model, \"sentiment_model_analysis.pkl\")\n",
    "joblib.dump(vector_file, \"fidf_vectorizer_model.pkl\")"
   ]
  },
  {
   "cell_type": "code",
   "execution_count": null,
   "id": "27bb705e",
   "metadata": {},
   "outputs": [],
   "source": []
  },
  {
   "cell_type": "code",
   "execution_count": null,
   "id": "acf004c7",
   "metadata": {},
   "outputs": [],
   "source": []
  },
  {
   "cell_type": "code",
   "execution_count": null,
   "id": "8d8e8cd1",
   "metadata": {},
   "outputs": [],
   "source": []
  },
  {
   "cell_type": "code",
   "execution_count": null,
   "id": "5e5dbc3e",
   "metadata": {},
   "outputs": [],
   "source": []
  },
  {
   "cell_type": "code",
   "execution_count": null,
   "id": "7b7b6a65",
   "metadata": {},
   "outputs": [],
   "source": []
  }
 ],
 "metadata": {
  "kernelspec": {
   "display_name": "Python 3",
   "language": "python",
   "name": "python3"
  },
  "language_info": {
   "codemirror_mode": {
    "name": "ipython",
    "version": 3
   },
   "file_extension": ".py",
   "mimetype": "text/x-python",
   "name": "python",
   "nbconvert_exporter": "python",
   "pygments_lexer": "ipython3",
   "version": "3.10.11"
  }
 },
 "nbformat": 4,
 "nbformat_minor": 5
}
