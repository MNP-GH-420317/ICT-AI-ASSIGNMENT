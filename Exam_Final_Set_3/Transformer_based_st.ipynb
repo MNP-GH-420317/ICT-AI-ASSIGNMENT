{
 "cells": [
  {
   "cell_type": "code",
   "execution_count": null,
   "id": "5419a474",
   "metadata": {},
   "outputs": [
    {
     "name": "stdout",
     "output_type": "stream",
     "text": [
      "WARNING:tensorflow:From c:\\Users\\420317\\AppData\\Local\\Programs\\Python\\Python310\\lib\\site-packages\\tf_keras\\src\\losses.py:2976: The name tf.losses.sparse_softmax_cross_entropy is deprecated. Please use tf.compat.v1.losses.sparse_softmax_cross_entropy instead.\n",
      "\n"
     ]
    }
   ],
   "source": [
    "from transformers import DistilBertTokenizerFast, DistilBertForSequenceClassification, Trainer, TrainingArguments\n",
    "import torch\n",
    "import pandas as pd"
   ]
  },
  {
   "cell_type": "code",
   "execution_count": 4,
   "id": "c9f30183",
   "metadata": {},
   "outputs": [],
   "source": [
    "data = pd.read_csv(\"drugLibTrain_raw.tsv\", sep=\"\\t\")"
   ]
  },
  {
   "cell_type": "code",
   "execution_count": 5,
   "id": "f521831b",
   "metadata": {},
   "outputs": [
    {
     "data": {
      "text/plain": [
       "Index(['Unnamed: 0', 'urlDrugName', 'rating', 'effectiveness', 'sideEffects',\n",
       "       'condition', 'benefitsReview', 'sideEffectsReview', 'commentsReview'],\n",
       "      dtype='object')"
      ]
     },
     "execution_count": 5,
     "metadata": {},
     "output_type": "execute_result"
    }
   ],
   "source": [
    "data.columns"
   ]
  },
  {
   "cell_type": "code",
   "execution_count": null,
   "id": "77988939",
   "metadata": {},
   "outputs": [],
   "source": [
    "df = pd.read_csv(\"drugLibTrain_raw.tsv\", sep=\"\\t\")\n",
    "df = df[['commentsReview', 'rating']].dropna()\n",
    "df['label'] = df['rating'].apply(lambda x: 1 if x >= 7 else 0)"
   ]
  },
  {
   "cell_type": "code",
   "execution_count": 6,
   "id": "4ad72aae",
   "metadata": {},
   "outputs": [],
   "source": [
    "\n",
    "data_ = data[['commentsReview', 'rating']].dropna()\n",
    "\n",
    "## condition apply for 7 is positive and else negative values\n",
    "\n",
    "sentiments = []\n",
    "for data_rate in data['rating']:\n",
    "    if data_rate >= 7:\n",
    "        sentiments.append(1)\n",
    "    else :\n",
    "        sentiments.append(0)\n",
    "data['label'] = sentiments"
   ]
  },
  {
   "cell_type": "code",
   "execution_count": null,
   "id": "face8420",
   "metadata": {},
   "outputs": [],
   "source": [
    "from transformers import DistilBertTokenizerFast\n",
    "tokenizer = DistilBertTokenizerFast.from_pretrained('distilbert-base-uncased')\n",
    "from sklearn.model_selection import train_test_split\n",
    "from transformers import DistilBertForSequenceClassification, Trainer, TrainingArguments\n",
    "model = DistilBertForSequenceClassification.from_pretrained('distilbert-base-uncased', num_labels=2)\n",
    "from transformers import TrainingArguments\n",
    "from torch.utils.data import TensorDataset\n",
    "from sklearn.metrics import accuracy_score, f1_score\n",
    "\n",
    "\n",
    "train_texts, val_texts, train_labels, val_labels = train_test_split(df['commentsReview'], df['label'], test_size=0.2)\n",
    "train_encodings = tokenizer(list(train_texts), truncation=True, padding=True, max_length=512)\n",
    "val_encodings = tokenizer(list(val_texts), truncation=True, padding=True, max_length=512)\n",
    "\n",
    "train_dataset = {\n",
    "    'input_ids': torch.tensor(train_encodings['input_ids']),\n",
    "    'attention_mask': torch.tensor(train_encodings['attention_mask']),\n",
    "    'labels': torch.tensor(list(train_labels))\n",
    "}\n",
    "val_dataset = {\n",
    "    'input_ids': torch.tensor(val_encodings['input_ids']),\n",
    "    'attention_mask': torch.tensor(val_encodings['attention_mask']),\n",
    "    'labels': torch.tensor(list(val_labels))\n",
    "}"
   ]
  },
  {
   "cell_type": "code",
   "execution_count": null,
   "id": "120742fa",
   "metadata": {},
   "outputs": [],
   "source": [
    "training_args = TrainingArguments(\n",
    "    output_dir=\"./results\",\n",
    "    evaluation_strategy=\"steps\", \n",
    ")\n",
    "\n",
    "train_ds = TensorDataset(train_dataset['input_ids'], train_dataset['attention_mask'], train_dataset['labels'])\n",
    "val_ds = TensorDataset(val_dataset['input_ids'], val_dataset['attention_mask'], val_dataset['labels'])\n",
    "\n",
    "\n",
    "def compute_metrics(p):\n",
    "    preds = p.predictions.argmax(-1)\n",
    "    labels = p.label_ids\n",
    "    return {\n",
    "        'accuracy': accuracy_score(labels, preds),\n",
    "        'f1': f1_score(labels, preds)\n",
    "    }\n",
    "\n",
    "trainer = Trainer(\n",
    "    model=model,\n",
    "    args=training_args,\n",
    "    train_dataset=train_ds,\n",
    "    eval_dataset=val_ds,\n",
    "    compute_metrics=compute_metrics,\n",
    "    tokenizer=tokenizer,\n",
    ")\n",
    "trainer.train()"
   ]
  },
  {
   "cell_type": "markdown",
   "id": "b427d613",
   "metadata": {},
   "source": [
    "### save model for streamlit run"
   ]
  },
  {
   "cell_type": "code",
   "execution_count": null,
   "id": "6bfa5b21",
   "metadata": {},
   "outputs": [],
   "source": [
    "model.save_pretrained(\"sentiment_model\")\n",
    "tokenizer.save_pretrained(\"sentiment_model\")"
   ]
  },
  {
   "cell_type": "code",
   "execution_count": null,
   "id": "c193d28e",
   "metadata": {},
   "outputs": [],
   "source": []
  },
  {
   "cell_type": "code",
   "execution_count": null,
   "id": "6ad13a5b",
   "metadata": {},
   "outputs": [],
   "source": []
  },
  {
   "cell_type": "code",
   "execution_count": null,
   "id": "35d2b558",
   "metadata": {},
   "outputs": [],
   "source": []
  },
  {
   "cell_type": "code",
   "execution_count": null,
   "id": "f04df42a",
   "metadata": {},
   "outputs": [],
   "source": []
  },
  {
   "cell_type": "code",
   "execution_count": null,
   "id": "97753755",
   "metadata": {},
   "outputs": [],
   "source": []
  }
 ],
 "metadata": {
  "kernelspec": {
   "display_name": "Python 3",
   "language": "python",
   "name": "python3"
  },
  "language_info": {
   "codemirror_mode": {
    "name": "ipython",
    "version": 3
   },
   "file_extension": ".py",
   "mimetype": "text/x-python",
   "name": "python",
   "nbconvert_exporter": "python",
   "pygments_lexer": "ipython3",
   "version": "3.10.11"
  }
 },
 "nbformat": 4,
 "nbformat_minor": 5
}
